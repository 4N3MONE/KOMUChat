{
 "cells": [
  {
   "cell_type": "code",
   "execution_count": 3,
   "metadata": {},
   "outputs": [],
   "source": [
    "import pandas as pd\n",
    "from sklearn.model_selection import train_test_split\n",
    "import os"
   ]
  },
  {
   "cell_type": "code",
   "execution_count": 8,
   "metadata": {},
   "outputs": [],
   "source": [
    "def get_csvfiles(data_root: str = '.'):\n",
    "    target_files = []\n",
    "\n",
    "    for filename in os.listdir(data_root):\n",
    "        if filename.split('.')[-1] != 'csv':\n",
    "            continue\n",
    "        target_files.append(os.path.join(data_root, filename))\n",
    "\n",
    "    return target_files"
   ]
  },
  {
   "cell_type": "code",
   "execution_count": 11,
   "metadata": {},
   "outputs": [],
   "source": [
    "dfs = []\n",
    "for file in get_csvfiles():\n",
    "    dfs.append((file, pd.read_csv(file)))"
   ]
  },
  {
   "cell_type": "code",
   "execution_count": 59,
   "metadata": {},
   "outputs": [],
   "source": [
    "new_dfs = []\n",
    "for name, df in dfs:\n",
    "    try:\n",
    "        data = df[['tag', 'Q', 'src']]\n",
    "    except:\n",
    "        data = df[['Q', 'src']]\n",
    "    target = df['A']\n",
    "    stratify = df['src']\n",
    "    x_train, x_valid, y_train, y_valid = train_test_split(data, target, test_size = 0.2, shuffle=True, stratify=stratify, random_state=42)\n",
    "    new_dfs.append((name, x_train, x_valid, y_train, y_valid))"
   ]
  },
  {
   "cell_type": "code",
   "execution_count": 60,
   "metadata": {},
   "outputs": [],
   "source": [
    "ver_2_dfs = []\n",
    "for name, x_t, x_v, y_t, y_v in new_dfs:\n",
    "    x_t['A'] = y_t\n",
    "    x_v['A'] = y_v\n",
    "    try:\n",
    "        x_t = x_t[['tag', 'Q', 'A' ,'src']]\n",
    "        x_v = x_v[['tag', 'Q', 'A' ,'src']]\n",
    "    except:\n",
    "        x_t = x_t[['Q', 'A' ,'src']]\n",
    "        x_v = x_v[['Q', 'A' ,'src']]      \n",
    "    ver_2_dfs.append((name, x_t, x_v))"
   ]
  },
  {
   "cell_type": "code",
   "execution_count": 61,
   "metadata": {},
   "outputs": [],
   "source": [
    "for name, train, valid in ver_2_dfs:\n",
    "    train_name = name.split('.')[0] + '_train.csv'\n",
    "    valid_name = name.split('.')[0] + '_valid.csv'\n",
    "    train.to_csv(train_name, encoding='utf-8-sig', index=False)\n",
    "    valid.to_csv(valid_name, encoding='utf-8-sig', index=False)"
   ]
  }
 ],
 "metadata": {
  "kernelspec": {
   "display_name": "grad_nlp_comu_kobart",
   "language": "python",
   "name": "python3"
  },
  "language_info": {
   "codemirror_mode": {
    "name": "ipython",
    "version": 3
   },
   "file_extension": ".py",
   "mimetype": "text/x-python",
   "name": "python",
   "nbconvert_exporter": "python",
   "pygments_lexer": "ipython3",
   "version": "3.8.2"
  },
  "orig_nbformat": 4
 },
 "nbformat": 4,
 "nbformat_minor": 2
}
